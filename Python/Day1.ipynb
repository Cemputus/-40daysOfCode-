#printing hello , your name
name = "Cen_protype"
print(f"Hello, {name}")

